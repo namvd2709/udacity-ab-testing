{
 "cells": [
  {
   "cell_type": "code",
   "execution_count": 36,
   "metadata": {},
   "outputs": [],
   "source": [
    "import pandas as pd\n",
    "import numpy as np\n",
    "import seaborn as sns\n",
    "from scipy.stats import norm"
   ]
  },
  {
   "cell_type": "code",
   "execution_count": 9,
   "metadata": {},
   "outputs": [],
   "source": [
    "baseline = pd.read_csv('data/baseline.csv', header=None)\n",
    "control = pd.read_excel('data/results.xlsx', sheet_name=0)\n",
    "experiment = pd.read_excel('data/results.xlsx', sheet_name=1)"
   ]
  },
  {
   "cell_type": "code",
   "execution_count": 21,
   "metadata": {},
   "outputs": [
    {
     "data": {
      "text/html": [
       "<div>\n",
       "<style scoped>\n",
       "    .dataframe tbody tr th:only-of-type {\n",
       "        vertical-align: middle;\n",
       "    }\n",
       "\n",
       "    .dataframe tbody tr th {\n",
       "        vertical-align: top;\n",
       "    }\n",
       "\n",
       "    .dataframe thead th {\n",
       "        text-align: right;\n",
       "    }\n",
       "</style>\n",
       "<table border=\"1\" class=\"dataframe\">\n",
       "  <thead>\n",
       "    <tr style=\"text-align: right;\">\n",
       "      <th></th>\n",
       "      <th>0</th>\n",
       "      <th>1</th>\n",
       "    </tr>\n",
       "  </thead>\n",
       "  <tbody>\n",
       "    <tr>\n",
       "      <th>0</th>\n",
       "      <td>Unique cookies to view course overview page pe...</td>\n",
       "      <td>40000.000000</td>\n",
       "    </tr>\n",
       "    <tr>\n",
       "      <th>1</th>\n",
       "      <td>Unique cookies to click \"Start free trial\" per...</td>\n",
       "      <td>3200.000000</td>\n",
       "    </tr>\n",
       "    <tr>\n",
       "      <th>2</th>\n",
       "      <td>Enrollments per day:</td>\n",
       "      <td>660.000000</td>\n",
       "    </tr>\n",
       "    <tr>\n",
       "      <th>3</th>\n",
       "      <td>Click-through-probability on \"Start free trial\":</td>\n",
       "      <td>0.080000</td>\n",
       "    </tr>\n",
       "    <tr>\n",
       "      <th>4</th>\n",
       "      <td>Probability of enrolling, given click:</td>\n",
       "      <td>0.206250</td>\n",
       "    </tr>\n",
       "    <tr>\n",
       "      <th>5</th>\n",
       "      <td>Probability of payment, given enroll:</td>\n",
       "      <td>0.530000</td>\n",
       "    </tr>\n",
       "    <tr>\n",
       "      <th>6</th>\n",
       "      <td>Probability of payment, given click</td>\n",
       "      <td>0.109313</td>\n",
       "    </tr>\n",
       "  </tbody>\n",
       "</table>\n",
       "</div>"
      ],
      "text/plain": [
       "                                                   0             1\n",
       "0  Unique cookies to view course overview page pe...  40000.000000\n",
       "1  Unique cookies to click \"Start free trial\" per...   3200.000000\n",
       "2                               Enrollments per day:    660.000000\n",
       "3   Click-through-probability on \"Start free trial\":      0.080000\n",
       "4             Probability of enrolling, given click:      0.206250\n",
       "5              Probability of payment, given enroll:      0.530000\n",
       "6                Probability of payment, given click      0.109313"
      ]
     },
     "execution_count": 21,
     "metadata": {},
     "output_type": "execute_result"
    }
   ],
   "source": [
    "baseline"
   ]
  },
  {
   "cell_type": "code",
   "execution_count": 68,
   "metadata": {},
   "outputs": [
    {
     "data": {
      "text/html": [
       "<div>\n",
       "<style scoped>\n",
       "    .dataframe tbody tr th:only-of-type {\n",
       "        vertical-align: middle;\n",
       "    }\n",
       "\n",
       "    .dataframe tbody tr th {\n",
       "        vertical-align: top;\n",
       "    }\n",
       "\n",
       "    .dataframe thead th {\n",
       "        text-align: right;\n",
       "    }\n",
       "</style>\n",
       "<table border=\"1\" class=\"dataframe\">\n",
       "  <thead>\n",
       "    <tr style=\"text-align: right;\">\n",
       "      <th></th>\n",
       "      <th>Date</th>\n",
       "      <th>Pageviews</th>\n",
       "      <th>Clicks</th>\n",
       "      <th>Enrollments</th>\n",
       "      <th>Payments</th>\n",
       "    </tr>\n",
       "  </thead>\n",
       "  <tbody>\n",
       "    <tr>\n",
       "      <th>0</th>\n",
       "      <td>Sat, Oct 11</td>\n",
       "      <td>7723</td>\n",
       "      <td>687</td>\n",
       "      <td>134.0</td>\n",
       "      <td>70.0</td>\n",
       "    </tr>\n",
       "    <tr>\n",
       "      <th>1</th>\n",
       "      <td>Sun, Oct 12</td>\n",
       "      <td>9102</td>\n",
       "      <td>779</td>\n",
       "      <td>147.0</td>\n",
       "      <td>70.0</td>\n",
       "    </tr>\n",
       "    <tr>\n",
       "      <th>2</th>\n",
       "      <td>Mon, Oct 13</td>\n",
       "      <td>10511</td>\n",
       "      <td>909</td>\n",
       "      <td>167.0</td>\n",
       "      <td>95.0</td>\n",
       "    </tr>\n",
       "    <tr>\n",
       "      <th>3</th>\n",
       "      <td>Tue, Oct 14</td>\n",
       "      <td>9871</td>\n",
       "      <td>836</td>\n",
       "      <td>156.0</td>\n",
       "      <td>105.0</td>\n",
       "    </tr>\n",
       "    <tr>\n",
       "      <th>4</th>\n",
       "      <td>Wed, Oct 15</td>\n",
       "      <td>10014</td>\n",
       "      <td>837</td>\n",
       "      <td>163.0</td>\n",
       "      <td>64.0</td>\n",
       "    </tr>\n",
       "    <tr>\n",
       "      <th>5</th>\n",
       "      <td>Thu, Oct 16</td>\n",
       "      <td>9670</td>\n",
       "      <td>823</td>\n",
       "      <td>138.0</td>\n",
       "      <td>82.0</td>\n",
       "    </tr>\n",
       "    <tr>\n",
       "      <th>6</th>\n",
       "      <td>Fri, Oct 17</td>\n",
       "      <td>9008</td>\n",
       "      <td>748</td>\n",
       "      <td>146.0</td>\n",
       "      <td>76.0</td>\n",
       "    </tr>\n",
       "    <tr>\n",
       "      <th>7</th>\n",
       "      <td>Sat, Oct 18</td>\n",
       "      <td>7434</td>\n",
       "      <td>632</td>\n",
       "      <td>110.0</td>\n",
       "      <td>70.0</td>\n",
       "    </tr>\n",
       "    <tr>\n",
       "      <th>8</th>\n",
       "      <td>Sun, Oct 19</td>\n",
       "      <td>8459</td>\n",
       "      <td>691</td>\n",
       "      <td>131.0</td>\n",
       "      <td>60.0</td>\n",
       "    </tr>\n",
       "    <tr>\n",
       "      <th>9</th>\n",
       "      <td>Mon, Oct 20</td>\n",
       "      <td>10667</td>\n",
       "      <td>861</td>\n",
       "      <td>165.0</td>\n",
       "      <td>97.0</td>\n",
       "    </tr>\n",
       "    <tr>\n",
       "      <th>10</th>\n",
       "      <td>Tue, Oct 21</td>\n",
       "      <td>10660</td>\n",
       "      <td>867</td>\n",
       "      <td>196.0</td>\n",
       "      <td>105.0</td>\n",
       "    </tr>\n",
       "    <tr>\n",
       "      <th>11</th>\n",
       "      <td>Wed, Oct 22</td>\n",
       "      <td>9947</td>\n",
       "      <td>838</td>\n",
       "      <td>162.0</td>\n",
       "      <td>92.0</td>\n",
       "    </tr>\n",
       "    <tr>\n",
       "      <th>12</th>\n",
       "      <td>Thu, Oct 23</td>\n",
       "      <td>8324</td>\n",
       "      <td>665</td>\n",
       "      <td>127.0</td>\n",
       "      <td>56.0</td>\n",
       "    </tr>\n",
       "    <tr>\n",
       "      <th>13</th>\n",
       "      <td>Fri, Oct 24</td>\n",
       "      <td>9434</td>\n",
       "      <td>673</td>\n",
       "      <td>220.0</td>\n",
       "      <td>122.0</td>\n",
       "    </tr>\n",
       "    <tr>\n",
       "      <th>14</th>\n",
       "      <td>Sat, Oct 25</td>\n",
       "      <td>8687</td>\n",
       "      <td>691</td>\n",
       "      <td>176.0</td>\n",
       "      <td>128.0</td>\n",
       "    </tr>\n",
       "    <tr>\n",
       "      <th>15</th>\n",
       "      <td>Sun, Oct 26</td>\n",
       "      <td>8896</td>\n",
       "      <td>708</td>\n",
       "      <td>161.0</td>\n",
       "      <td>104.0</td>\n",
       "    </tr>\n",
       "    <tr>\n",
       "      <th>16</th>\n",
       "      <td>Mon, Oct 27</td>\n",
       "      <td>9535</td>\n",
       "      <td>759</td>\n",
       "      <td>233.0</td>\n",
       "      <td>124.0</td>\n",
       "    </tr>\n",
       "    <tr>\n",
       "      <th>17</th>\n",
       "      <td>Tue, Oct 28</td>\n",
       "      <td>9363</td>\n",
       "      <td>736</td>\n",
       "      <td>154.0</td>\n",
       "      <td>91.0</td>\n",
       "    </tr>\n",
       "    <tr>\n",
       "      <th>18</th>\n",
       "      <td>Wed, Oct 29</td>\n",
       "      <td>9327</td>\n",
       "      <td>739</td>\n",
       "      <td>196.0</td>\n",
       "      <td>86.0</td>\n",
       "    </tr>\n",
       "    <tr>\n",
       "      <th>19</th>\n",
       "      <td>Thu, Oct 30</td>\n",
       "      <td>9345</td>\n",
       "      <td>734</td>\n",
       "      <td>167.0</td>\n",
       "      <td>75.0</td>\n",
       "    </tr>\n",
       "    <tr>\n",
       "      <th>20</th>\n",
       "      <td>Fri, Oct 31</td>\n",
       "      <td>8890</td>\n",
       "      <td>706</td>\n",
       "      <td>174.0</td>\n",
       "      <td>101.0</td>\n",
       "    </tr>\n",
       "    <tr>\n",
       "      <th>21</th>\n",
       "      <td>Sat, Nov 1</td>\n",
       "      <td>8460</td>\n",
       "      <td>681</td>\n",
       "      <td>156.0</td>\n",
       "      <td>93.0</td>\n",
       "    </tr>\n",
       "    <tr>\n",
       "      <th>22</th>\n",
       "      <td>Sun, Nov 2</td>\n",
       "      <td>8836</td>\n",
       "      <td>693</td>\n",
       "      <td>206.0</td>\n",
       "      <td>67.0</td>\n",
       "    </tr>\n",
       "    <tr>\n",
       "      <th>23</th>\n",
       "      <td>Mon, Nov 3</td>\n",
       "      <td>9437</td>\n",
       "      <td>788</td>\n",
       "      <td>NaN</td>\n",
       "      <td>NaN</td>\n",
       "    </tr>\n",
       "    <tr>\n",
       "      <th>24</th>\n",
       "      <td>Tue, Nov 4</td>\n",
       "      <td>9420</td>\n",
       "      <td>781</td>\n",
       "      <td>NaN</td>\n",
       "      <td>NaN</td>\n",
       "    </tr>\n",
       "    <tr>\n",
       "      <th>25</th>\n",
       "      <td>Wed, Nov 5</td>\n",
       "      <td>9570</td>\n",
       "      <td>805</td>\n",
       "      <td>NaN</td>\n",
       "      <td>NaN</td>\n",
       "    </tr>\n",
       "    <tr>\n",
       "      <th>26</th>\n",
       "      <td>Thu, Nov 6</td>\n",
       "      <td>9921</td>\n",
       "      <td>830</td>\n",
       "      <td>NaN</td>\n",
       "      <td>NaN</td>\n",
       "    </tr>\n",
       "    <tr>\n",
       "      <th>27</th>\n",
       "      <td>Fri, Nov 7</td>\n",
       "      <td>9424</td>\n",
       "      <td>781</td>\n",
       "      <td>NaN</td>\n",
       "      <td>NaN</td>\n",
       "    </tr>\n",
       "    <tr>\n",
       "      <th>28</th>\n",
       "      <td>Sat, Nov 8</td>\n",
       "      <td>9010</td>\n",
       "      <td>756</td>\n",
       "      <td>NaN</td>\n",
       "      <td>NaN</td>\n",
       "    </tr>\n",
       "    <tr>\n",
       "      <th>29</th>\n",
       "      <td>Sun, Nov 9</td>\n",
       "      <td>9656</td>\n",
       "      <td>825</td>\n",
       "      <td>NaN</td>\n",
       "      <td>NaN</td>\n",
       "    </tr>\n",
       "    <tr>\n",
       "      <th>30</th>\n",
       "      <td>Mon, Nov 10</td>\n",
       "      <td>10419</td>\n",
       "      <td>874</td>\n",
       "      <td>NaN</td>\n",
       "      <td>NaN</td>\n",
       "    </tr>\n",
       "    <tr>\n",
       "      <th>31</th>\n",
       "      <td>Tue, Nov 11</td>\n",
       "      <td>9880</td>\n",
       "      <td>830</td>\n",
       "      <td>NaN</td>\n",
       "      <td>NaN</td>\n",
       "    </tr>\n",
       "    <tr>\n",
       "      <th>32</th>\n",
       "      <td>Wed, Nov 12</td>\n",
       "      <td>10134</td>\n",
       "      <td>801</td>\n",
       "      <td>NaN</td>\n",
       "      <td>NaN</td>\n",
       "    </tr>\n",
       "    <tr>\n",
       "      <th>33</th>\n",
       "      <td>Thu, Nov 13</td>\n",
       "      <td>9717</td>\n",
       "      <td>814</td>\n",
       "      <td>NaN</td>\n",
       "      <td>NaN</td>\n",
       "    </tr>\n",
       "    <tr>\n",
       "      <th>34</th>\n",
       "      <td>Fri, Nov 14</td>\n",
       "      <td>9192</td>\n",
       "      <td>735</td>\n",
       "      <td>NaN</td>\n",
       "      <td>NaN</td>\n",
       "    </tr>\n",
       "    <tr>\n",
       "      <th>35</th>\n",
       "      <td>Sat, Nov 15</td>\n",
       "      <td>8630</td>\n",
       "      <td>743</td>\n",
       "      <td>NaN</td>\n",
       "      <td>NaN</td>\n",
       "    </tr>\n",
       "    <tr>\n",
       "      <th>36</th>\n",
       "      <td>Sun, Nov 16</td>\n",
       "      <td>8970</td>\n",
       "      <td>722</td>\n",
       "      <td>NaN</td>\n",
       "      <td>NaN</td>\n",
       "    </tr>\n",
       "  </tbody>\n",
       "</table>\n",
       "</div>"
      ],
      "text/plain": [
       "           Date  Pageviews  Clicks  Enrollments  Payments\n",
       "0   Sat, Oct 11       7723     687        134.0      70.0\n",
       "1   Sun, Oct 12       9102     779        147.0      70.0\n",
       "2   Mon, Oct 13      10511     909        167.0      95.0\n",
       "3   Tue, Oct 14       9871     836        156.0     105.0\n",
       "4   Wed, Oct 15      10014     837        163.0      64.0\n",
       "5   Thu, Oct 16       9670     823        138.0      82.0\n",
       "6   Fri, Oct 17       9008     748        146.0      76.0\n",
       "7   Sat, Oct 18       7434     632        110.0      70.0\n",
       "8   Sun, Oct 19       8459     691        131.0      60.0\n",
       "9   Mon, Oct 20      10667     861        165.0      97.0\n",
       "10  Tue, Oct 21      10660     867        196.0     105.0\n",
       "11  Wed, Oct 22       9947     838        162.0      92.0\n",
       "12  Thu, Oct 23       8324     665        127.0      56.0\n",
       "13  Fri, Oct 24       9434     673        220.0     122.0\n",
       "14  Sat, Oct 25       8687     691        176.0     128.0\n",
       "15  Sun, Oct 26       8896     708        161.0     104.0\n",
       "16  Mon, Oct 27       9535     759        233.0     124.0\n",
       "17  Tue, Oct 28       9363     736        154.0      91.0\n",
       "18  Wed, Oct 29       9327     739        196.0      86.0\n",
       "19  Thu, Oct 30       9345     734        167.0      75.0\n",
       "20  Fri, Oct 31       8890     706        174.0     101.0\n",
       "21   Sat, Nov 1       8460     681        156.0      93.0\n",
       "22   Sun, Nov 2       8836     693        206.0      67.0\n",
       "23   Mon, Nov 3       9437     788          NaN       NaN\n",
       "24   Tue, Nov 4       9420     781          NaN       NaN\n",
       "25   Wed, Nov 5       9570     805          NaN       NaN\n",
       "26   Thu, Nov 6       9921     830          NaN       NaN\n",
       "27   Fri, Nov 7       9424     781          NaN       NaN\n",
       "28   Sat, Nov 8       9010     756          NaN       NaN\n",
       "29   Sun, Nov 9       9656     825          NaN       NaN\n",
       "30  Mon, Nov 10      10419     874          NaN       NaN\n",
       "31  Tue, Nov 11       9880     830          NaN       NaN\n",
       "32  Wed, Nov 12      10134     801          NaN       NaN\n",
       "33  Thu, Nov 13       9717     814          NaN       NaN\n",
       "34  Fri, Nov 14       9192     735          NaN       NaN\n",
       "35  Sat, Nov 15       8630     743          NaN       NaN\n",
       "36  Sun, Nov 16       8970     722          NaN       NaN"
      ]
     },
     "execution_count": 68,
     "metadata": {},
     "output_type": "execute_result"
    }
   ],
   "source": [
    "control"
   ]
  },
  {
   "cell_type": "code",
   "execution_count": 13,
   "metadata": {},
   "outputs": [
    {
     "data": {
      "text/html": [
       "<div>\n",
       "<style scoped>\n",
       "    .dataframe tbody tr th:only-of-type {\n",
       "        vertical-align: middle;\n",
       "    }\n",
       "\n",
       "    .dataframe tbody tr th {\n",
       "        vertical-align: top;\n",
       "    }\n",
       "\n",
       "    .dataframe thead th {\n",
       "        text-align: right;\n",
       "    }\n",
       "</style>\n",
       "<table border=\"1\" class=\"dataframe\">\n",
       "  <thead>\n",
       "    <tr style=\"text-align: right;\">\n",
       "      <th></th>\n",
       "      <th>Date</th>\n",
       "      <th>Pageviews</th>\n",
       "      <th>Clicks</th>\n",
       "      <th>Enrollments</th>\n",
       "      <th>Payments</th>\n",
       "    </tr>\n",
       "  </thead>\n",
       "  <tbody>\n",
       "    <tr>\n",
       "      <th>0</th>\n",
       "      <td>Sat, Oct 11</td>\n",
       "      <td>7716</td>\n",
       "      <td>686</td>\n",
       "      <td>105.0</td>\n",
       "      <td>34.0</td>\n",
       "    </tr>\n",
       "    <tr>\n",
       "      <th>1</th>\n",
       "      <td>Sun, Oct 12</td>\n",
       "      <td>9288</td>\n",
       "      <td>785</td>\n",
       "      <td>116.0</td>\n",
       "      <td>91.0</td>\n",
       "    </tr>\n",
       "    <tr>\n",
       "      <th>2</th>\n",
       "      <td>Mon, Oct 13</td>\n",
       "      <td>10480</td>\n",
       "      <td>884</td>\n",
       "      <td>145.0</td>\n",
       "      <td>79.0</td>\n",
       "    </tr>\n",
       "    <tr>\n",
       "      <th>3</th>\n",
       "      <td>Tue, Oct 14</td>\n",
       "      <td>9867</td>\n",
       "      <td>827</td>\n",
       "      <td>138.0</td>\n",
       "      <td>92.0</td>\n",
       "    </tr>\n",
       "    <tr>\n",
       "      <th>4</th>\n",
       "      <td>Wed, Oct 15</td>\n",
       "      <td>9793</td>\n",
       "      <td>832</td>\n",
       "      <td>140.0</td>\n",
       "      <td>94.0</td>\n",
       "    </tr>\n",
       "  </tbody>\n",
       "</table>\n",
       "</div>"
      ],
      "text/plain": [
       "          Date  Pageviews  Clicks  Enrollments  Payments\n",
       "0  Sat, Oct 11       7716     686        105.0      34.0\n",
       "1  Sun, Oct 12       9288     785        116.0      91.0\n",
       "2  Mon, Oct 13      10480     884        145.0      79.0\n",
       "3  Tue, Oct 14       9867     827        138.0      92.0\n",
       "4  Wed, Oct 15       9793     832        140.0      94.0"
      ]
     },
     "execution_count": 13,
     "metadata": {},
     "output_type": "execute_result"
    }
   ],
   "source": [
    "experiment.head()"
   ]
  },
  {
   "cell_type": "markdown",
   "metadata": {},
   "source": [
    "### Experiment Overview:\n",
    "\n",
    "Free Trial Screener\n",
    "At the time of this experiment, Udacity courses currently have two options on the course overview page: \"start free trial\", and \"access course materials\". If the student clicks \"start free trial\", they will be asked to enter their credit card information, and then they will be enrolled in a free trial for the paid version of the course. After 14 days, they will automatically be charged unless they cancel first. If the student clicks \"access course materials\", they will be able to view the videos and take the quizzes for free, but they will not receive coaching support or a verified certificate, and they will not submit their final project for feedback.\n",
    "\n",
    "\n",
    "In the experiment, Udacity tested a change where if the student clicked \"start free trial\", they were asked how much time they had available to devote to the course. If the student indicated 5 or more hours per week, they would be taken through the checkout process as usual. If they indicated fewer than 5 hours per week, a message would appear indicating that Udacity courses usually require a greater time commitment for successful completion, and suggesting that the student might like to access the course materials for free. At this point, the student would have the option to continue enrolling in the free trial, or access the course materials for free instead. This screenshot shows what the experiment looks like.\n",
    "\n",
    "\n",
    "The hypothesis was that this might set clearer expectations for students upfront, thus reducing the number of frustrated students who left the free trial because they didn't have enough time—without significantly reducing the number of students to continue past the free trial and eventually complete the course. If this hypothesis held true, Udacity could improve the overall student experience and improve coaches' capacity to support students who are likely to complete the course.\n",
    "\n",
    "\n",
    "The **unit of diversion is a cookie**, although **if the student enrolls in the free trial, they are tracked by user-id from that point forward**. The same user-id cannot enroll in the free trial twice. For users that **do not enroll, their user-id is not tracked in the experiment, even if they were signed in when they visited the course overview page**.\n",
    "\n"
   ]
  },
  {
   "cell_type": "markdown",
   "metadata": {},
   "source": [
    "### Metric choice"
   ]
  },
  {
   "cell_type": "markdown",
   "metadata": {},
   "source": [
    "**Number of cookies**: That is, number of unique cookies to view the course overview page. (dmin=3000)\n",
    "\n",
    "**Number of user-ids**: That is, number of users who enroll in the free trial. (dmin=50)\n",
    "\n",
    "**Number of clicks**: That is, number of unique cookies to click the \"Start free trial\" button (which happens before the free trial screener is trigger). (dmin=240)\n",
    "\n",
    "**Click-through-probability**: That is, number of unique cookies to click the \"Start free trial\" button divided by number of unique cookies to view the course overview page. (dmin=0.01)\n",
    "\n",
    "**Gross conversion**: That is, number of user-ids to complete checkout and enroll in the free trial divided by number of unique cookies to click the \"Start free trial\" button. (dmin= 0.01)\n",
    "\n",
    "**Retention**: That is, number of user-ids to remain enrolled past the 14-day boundary (and thus make at least one payment) divided by number of user-ids to complete checkout. (dmin=0.01)\n",
    "\n",
    "**Net conversion**: That is, number of user-ids to remain enrolled past the 14-day boundary (and thus make at least one payment) divided by the number of unique cookies to click the \"Start free trial\" button. (dmin= 0.0075)"
   ]
  },
  {
   "cell_type": "markdown",
   "metadata": {},
   "source": [
    "### The invariant metrics are: \n",
    "**Number of cookies** - These are landing pages that happen before they see the change <br/>\n",
    "**Number of clicks** - These also happen before the free trial screener is triggered <br/>\n",
    "**Click-through-probability** - These follow logically from the 2 above"
   ]
  },
  {
   "cell_type": "markdown",
   "metadata": {},
   "source": [
    "### The evaluation metrics are: \n",
    "**Gross conversion** - These are likely to change due to less students enrolling in the free trial, and just take the free course <br/>\n",
    "**Retention** - These are likely to change due to change in number of enrolled students <br/>\n",
    "**Net conversion** - These follow logically from the 2 above"
   ]
  },
  {
   "cell_type": "markdown",
   "metadata": {},
   "source": [
    "### Calculating standard deviation"
   ]
  },
  {
   "cell_type": "code",
   "execution_count": 26,
   "metadata": {},
   "outputs": [],
   "source": [
    "total_pageviews = baseline.iloc[0,1]\n",
    "total_clicks = baseline.iloc[1,1]\n",
    "total_enrollments = baseline.iloc[2,1]\n",
    "clicks_to_pv_prob = baseline.iloc[3,1]\n",
    "enroll_given_click_conversion = baseline.iloc[4,1]\n",
    "pay_given_enroll_retention = baseline.iloc[5,1]\n",
    "pay_given_click_net_conversion = baseline.iloc[6,1]"
   ]
  },
  {
   "cell_type": "markdown",
   "metadata": {},
   "source": [
    "***Question***: For each metric you selected as an **evaluation** metric, estimate its standard deviation analytically, based on a sample size of 5000 PV. Do you expect the analytic estimates to be accurate? That is, for which metrics, if any, would you want to collect an empirical estimate of the variability if you had time?"
   ]
  },
  {
   "cell_type": "markdown",
   "metadata": {},
   "source": [
    "*Formula to calculate standard deviation is:* <br/> $$\\sigma = \\sqrt{\\frac{\\hat{p}*(1-\\hat{p})}{N}}$$"
   ]
  },
  {
   "cell_type": "markdown",
   "metadata": {},
   "source": [
    "To calculate the above on a sample size of 5000 PVs, we would need to scale the denominator (total_clicks and total_enrollments) in this case to correspond to 5000 PVs"
   ]
  },
  {
   "cell_type": "code",
   "execution_count": 33,
   "metadata": {},
   "outputs": [
    {
     "name": "stdout",
     "output_type": "stream",
     "text": [
      "Gross conversion standard deviation is: 0.020230604137049392\n",
      "Retention standard deviation is: 0.05494901217850908\n",
      "Net conversion standard deviation is: 0.01560154458248846\n"
     ]
    }
   ],
   "source": [
    "gross_conversion_std = np.sqrt(enroll_given_click_conversion * (1 - enroll_given_click_conversion) / ((total_clicks*5000)/total_pageviews))\n",
    "retention_std = np.sqrt(pay_given_enroll_retention * (1 - pay_given_enroll_retention) / ((total_enrollments*5000)/total_pageviews))\n",
    "net_conversion_std = np.sqrt(pay_given_click_net_conversion * (1 - pay_given_click_net_conversion) / ((total_clicks*5000)/total_pageviews))\n",
    "print(f\"Gross conversion standard deviation is: {gross_conversion_std}\")\n",
    "print(f\"Retention standard deviation is: {retention_std}\")\n",
    "print(f\"Net conversion standard deviation is: {net_conversion_std}\")"
   ]
  },
  {
   "cell_type": "markdown",
   "metadata": {},
   "source": [
    "### Calculating number of pageviews"
   ]
  },
  {
   "cell_type": "markdown",
   "metadata": {},
   "source": [
    "*Formula to calculate number of sample is:* <br/>\n",
    "$$n = \\frac{(z_{\\alpha/2} * \\sqrt{2*\\sigma^2_{control})} + z_\\beta * \\sqrt{\\sigma^2_{control} + \\sigma^2_{experiment}})^2}{\\delta^2}$$<br/>\n",
    "where, <br/>\n",
    "$$\\sigma^2 = p(1-p)$$<br/>\n",
    "with, <br/>\n",
    "**n**: number of sample needed in each group<br/>\n",
    "**alpha**: desired statistical significance level<br/>\n",
    "**beta**: 1 - power<br/>\n",
    "**delta**: absolute practical significance<br/>"
   ]
  },
  {
   "cell_type": "markdown",
   "metadata": {},
   "source": [
    "*A quick estimation of the above function is:*<br/>\n",
    "$$n = 16\\frac{\\sigma^2}{\\delta^2}$$"
   ]
  },
  {
   "cell_type": "code",
   "execution_count": 63,
   "metadata": {},
   "outputs": [],
   "source": [
    "alpha = 0.05\n",
    "beta = 0.2\n",
    "def calc_sample_size(alpha, beta, p, delta):\n",
    "    \"\"\" Based on https://www.evanmiller.org/ab-testing/sample-size.html\n",
    "    Ref: https://stats.stackexchange.com/questions/357336/create-an-a-b-sample-size-calculator-using-evan-millers-post\n",
    "    Args:\n",
    "        alpha (float): How often are you willing to accept a Type I error (false positive)?\n",
    "        power (float): How often do you want to correctly detect a true positive (1-beta)?\n",
    "        p (float): Base conversion rate\n",
    "        pct_mde (float): Minimum detectable effect, relative to base conversion rate.\n",
    "\n",
    "    \"\"\"\n",
    "    t_alpha2 = norm.ppf(1.0-alpha/2)\n",
    "    t_beta = norm.ppf(1-beta)\n",
    "\n",
    "    sd1 = np.sqrt(2 * p * (1.0 - p))\n",
    "    sd2 = np.sqrt(p * (1.0 - p) + (p + delta) * (1.0 - p - delta))\n",
    "\n",
    "    return int((t_alpha2 * sd1 + t_beta * sd2) * (t_alpha2 * sd1 + t_beta * sd2) / (delta * delta))\n",
    "\n",
    "\n",
    "def calculate_num_sample_multiple_metrics(metrics, alpha, beta, bonferroni=False):\n",
    "    \"\"\"\n",
    "    metrics: a dictionary mapping name to the appropriate baseline and d_min\n",
    "    bonferroni: to use bonferroni estimation or not (divide alpha by number of metrics)\n",
    "    \"\"\"\n",
    "    needed_samples = []\n",
    "    if bonferroni:\n",
    "        alpha = alpha / len(metrics)\n",
    "    for k, v in metrics.items():\n",
    "        needed_samples.append((k, calc_sample_size(alpha, beta, v['baseline'], v['d_min'])))\n",
    "    return needed_samples"
   ]
  },
  {
   "cell_type": "code",
   "execution_count": 64,
   "metadata": {},
   "outputs": [
    {
     "data": {
      "text/plain": [
       "[('gross_conversion', 25834), ('retention', 39086), ('net_conversion', 27413)]"
      ]
     },
     "execution_count": 64,
     "metadata": {},
     "output_type": "execute_result"
    }
   ],
   "source": [
    "metrics = {'gross_conversion': {'baseline': enroll_given_click_conversion, 'd_min': 0.01}, 'retention': {'baseline': pay_given_enroll_retention, 'd_min': 0.01}, 'net_conversion': {'baseline': pay_given_click_net_conversion, 'd_min': 0.0075}}\n",
    "needed_samples = calculate_num_sample_multiple_metrics(metrics, alpha, beta, bonferroni=False)\n",
    "needed_samples"
   ]
  },
  {
   "cell_type": "markdown",
   "metadata": {},
   "source": [
    "<br/>*Remember that the numbers above are of the appropriate baseline though. So gross_conversion, 25845 are not pageviews, but are number of clicks. Similarly, for retention, we need 39086 enrollments; for net_conversion, 27413 clicks. As such, number of pageviews needed are (we time two because the function above is PVs of one control/experiment group):*"
   ]
  },
  {
   "cell_type": "code",
   "execution_count": 65,
   "metadata": {},
   "outputs": [
    {
     "data": {
      "text/plain": [
       "4737696.96969697"
      ]
     },
     "execution_count": 65,
     "metadata": {},
     "output_type": "execute_result"
    }
   ],
   "source": [
    "2*max(needed_samples[0][1] / total_clicks * total_pageviews, needed_samples[1][1] / total_enrollments * total_pageviews, needed_samples[2][1] / total_clicks * total_pageviews)"
   ]
  },
  {
   "cell_type": "markdown",
   "metadata": {},
   "source": [
    "*So we need ~4.7M pageviews, which means we need around 4700000/40000=120 days for this if we run on full traffic. This is not good and thus we should remove retention from our evaluation metrics*"
   ]
  },
  {
   "cell_type": "code",
   "execution_count": 66,
   "metadata": {},
   "outputs": [
    {
     "data": {
      "text/plain": [
       "[('gross_conversion', 25834), ('net_conversion', 27413)]"
      ]
     },
     "execution_count": 66,
     "metadata": {},
     "output_type": "execute_result"
    }
   ],
   "source": [
    "metrics = {'gross_conversion': {'baseline': enroll_given_click_conversion, 'd_min': 0.01}, 'net_conversion': {'baseline': pay_given_click_net_conversion, 'd_min': 0.0075}}\n",
    "needed_samples = calculate_num_sample_multiple_metrics(metrics, alpha, beta, bonferroni=False)\n",
    "needed_samples"
   ]
  },
  {
   "cell_type": "code",
   "execution_count": 67,
   "metadata": {},
   "outputs": [
    {
     "data": {
      "text/plain": [
       "685325.0"
      ]
     },
     "execution_count": 67,
     "metadata": {},
     "output_type": "execute_result"
    }
   ],
   "source": [
    "2*max(needed_samples[0][1] / total_clicks * total_pageviews, needed_samples[1][1] / total_clicks * total_pageviews)"
   ]
  },
  {
   "cell_type": "markdown",
   "metadata": {},
   "source": [
    "### Choosing duration and exposure<br/>\n",
    "If we run this experiment on 100% traffic, we would need to run for 685325/40000=17.13~18 days. This is a fairly long period of time, so it is advisable to run on 100% traffic. However, you need to be aware of the implications of this."
   ]
  },
  {
   "cell_type": "markdown",
   "metadata": {},
   "source": [
    "### Sanity Check"
   ]
  },
  {
   "cell_type": "markdown",
   "metadata": {},
   "source": [
    "#### Count metrics"
   ]
  },
  {
   "cell_type": "code",
   "execution_count": 86,
   "metadata": {},
   "outputs": [
    {
     "data": {
      "text/html": [
       "<div>\n",
       "<style scoped>\n",
       "    .dataframe tbody tr th:only-of-type {\n",
       "        vertical-align: middle;\n",
       "    }\n",
       "\n",
       "    .dataframe tbody tr th {\n",
       "        vertical-align: top;\n",
       "    }\n",
       "\n",
       "    .dataframe thead th {\n",
       "        text-align: right;\n",
       "    }\n",
       "</style>\n",
       "<table border=\"1\" class=\"dataframe\">\n",
       "  <thead>\n",
       "    <tr style=\"text-align: right;\">\n",
       "      <th></th>\n",
       "      <th>Control</th>\n",
       "      <th>Experiment</th>\n",
       "    </tr>\n",
       "  </thead>\n",
       "  <tbody>\n",
       "    <tr>\n",
       "      <th>cookies</th>\n",
       "      <td>345543.0</td>\n",
       "      <td>344660.0</td>\n",
       "    </tr>\n",
       "    <tr>\n",
       "      <th>clicks</th>\n",
       "      <td>28378.0</td>\n",
       "      <td>28325.0</td>\n",
       "    </tr>\n",
       "    <tr>\n",
       "      <th>enrollments</th>\n",
       "      <td>3785.0</td>\n",
       "      <td>3423.0</td>\n",
       "    </tr>\n",
       "    <tr>\n",
       "      <th>payments</th>\n",
       "      <td>2033.0</td>\n",
       "      <td>1945.0</td>\n",
       "    </tr>\n",
       "  </tbody>\n",
       "</table>\n",
       "</div>"
      ],
      "text/plain": [
       "              Control  Experiment\n",
       "cookies      345543.0    344660.0\n",
       "clicks        28378.0     28325.0\n",
       "enrollments    3785.0      3423.0\n",
       "payments       2033.0      1945.0"
      ]
     },
     "execution_count": 86,
     "metadata": {},
     "output_type": "execute_result"
    }
   ],
   "source": [
    "idx = [\"cookies\",\"clicks\",\"enrollments\",\"payments\"]\n",
    "results = {\"Control\":pd.Series([control['Pageviews'].sum(), control['Clicks'].sum(), control['Enrollments'].sum(),control['Payments'].sum()],\n",
    "                                index = idx),\n",
    "           \"Experiment\":pd.Series([experiment['Pageviews'].sum(), experiment['Clicks'].sum(), experiment['Enrollments'].sum(),experiment['Payments'].sum()],\n",
    "                               index = idx)}\n",
    "df_results = pd.DataFrame(results)\n",
    "df_results"
   ]
  },
  {
   "cell_type": "markdown",
   "metadata": {},
   "source": [
    "*First, we calculate the margin:*<br/>\n",
    "$$m = z_{\\alpha/2} * \\sqrt{\\frac{\\sigma^2}{N}}$$<br/>\n",
    "where,<br/>\n",
    "$$\\sigma^2 = p(1-p)$$"
   ]
  },
  {
   "cell_type": "code",
   "execution_count": 88,
   "metadata": {},
   "outputs": [
    {
     "data": {
      "text/html": [
       "<div>\n",
       "<style scoped>\n",
       "    .dataframe tbody tr th:only-of-type {\n",
       "        vertical-align: middle;\n",
       "    }\n",
       "\n",
       "    .dataframe tbody tr th {\n",
       "        vertical-align: top;\n",
       "    }\n",
       "\n",
       "    .dataframe thead th {\n",
       "        text-align: right;\n",
       "    }\n",
       "</style>\n",
       "<table border=\"1\" class=\"dataframe\">\n",
       "  <thead>\n",
       "    <tr style=\"text-align: right;\">\n",
       "      <th></th>\n",
       "      <th>Control</th>\n",
       "      <th>Experiment</th>\n",
       "      <th>Total</th>\n",
       "      <th>Prob</th>\n",
       "      <th>SE</th>\n",
       "      <th>Margin</th>\n",
       "    </tr>\n",
       "  </thead>\n",
       "  <tbody>\n",
       "    <tr>\n",
       "      <th>cookies</th>\n",
       "      <td>345543.0</td>\n",
       "      <td>344660.0</td>\n",
       "      <td>690203.0</td>\n",
       "      <td>0.5</td>\n",
       "      <td>0.000602</td>\n",
       "      <td>0.001180</td>\n",
       "    </tr>\n",
       "    <tr>\n",
       "      <th>clicks</th>\n",
       "      <td>28378.0</td>\n",
       "      <td>28325.0</td>\n",
       "      <td>56703.0</td>\n",
       "      <td>0.5</td>\n",
       "      <td>0.002100</td>\n",
       "      <td>0.004115</td>\n",
       "    </tr>\n",
       "    <tr>\n",
       "      <th>enrollments</th>\n",
       "      <td>3785.0</td>\n",
       "      <td>3423.0</td>\n",
       "      <td>7208.0</td>\n",
       "      <td>0.5</td>\n",
       "      <td>0.005889</td>\n",
       "      <td>0.011543</td>\n",
       "    </tr>\n",
       "    <tr>\n",
       "      <th>payments</th>\n",
       "      <td>2033.0</td>\n",
       "      <td>1945.0</td>\n",
       "      <td>3978.0</td>\n",
       "      <td>0.5</td>\n",
       "      <td>0.007928</td>\n",
       "      <td>0.015538</td>\n",
       "    </tr>\n",
       "  </tbody>\n",
       "</table>\n",
       "</div>"
      ],
      "text/plain": [
       "              Control  Experiment     Total  Prob        SE    Margin\n",
       "cookies      345543.0    344660.0  690203.0   0.5  0.000602  0.001180\n",
       "clicks        28378.0     28325.0   56703.0   0.5  0.002100  0.004115\n",
       "enrollments    3785.0      3423.0    7208.0   0.5  0.005889  0.011543\n",
       "payments       2033.0      1945.0    3978.0   0.5  0.007928  0.015538"
      ]
     },
     "execution_count": 88,
     "metadata": {},
     "output_type": "execute_result"
    }
   ],
   "source": [
    "df_results['Total']=df_results['Control'] + df_results['Experiment']\n",
    "df_results['Prob'] = 0.5\n",
    "df_results['SE'] = np.sqrt((df_results['Prob'] * (1- df_results['Prob']))/df_results['Total'])\n",
    "df_results['Margin'] = norm.ppf(1-alpha/2) * df_results['SE']\n",
    "df_results"
   ]
  },
  {
   "cell_type": "code",
   "execution_count": 93,
   "metadata": {},
   "outputs": [
    {
     "data": {
      "text/html": [
       "<div>\n",
       "<style scoped>\n",
       "    .dataframe tbody tr th:only-of-type {\n",
       "        vertical-align: middle;\n",
       "    }\n",
       "\n",
       "    .dataframe tbody tr th {\n",
       "        vertical-align: top;\n",
       "    }\n",
       "\n",
       "    .dataframe thead th {\n",
       "        text-align: right;\n",
       "    }\n",
       "</style>\n",
       "<table border=\"1\" class=\"dataframe\">\n",
       "  <thead>\n",
       "    <tr style=\"text-align: right;\">\n",
       "      <th></th>\n",
       "      <th>Control</th>\n",
       "      <th>Experiment</th>\n",
       "      <th>Total</th>\n",
       "      <th>Prob</th>\n",
       "      <th>SE</th>\n",
       "      <th>Margin</th>\n",
       "      <th>CI_low</th>\n",
       "      <th>CI_high</th>\n",
       "      <th>Observed</th>\n",
       "      <th>Pass</th>\n",
       "    </tr>\n",
       "  </thead>\n",
       "  <tbody>\n",
       "    <tr>\n",
       "      <th>cookies</th>\n",
       "      <td>345543.0</td>\n",
       "      <td>344660.0</td>\n",
       "      <td>690203.0</td>\n",
       "      <td>0.5</td>\n",
       "      <td>0.000602</td>\n",
       "      <td>0.001180</td>\n",
       "      <td>0.498820</td>\n",
       "      <td>0.501180</td>\n",
       "      <td>0.499360</td>\n",
       "      <td>True</td>\n",
       "    </tr>\n",
       "    <tr>\n",
       "      <th>clicks</th>\n",
       "      <td>28378.0</td>\n",
       "      <td>28325.0</td>\n",
       "      <td>56703.0</td>\n",
       "      <td>0.5</td>\n",
       "      <td>0.002100</td>\n",
       "      <td>0.004115</td>\n",
       "      <td>0.495885</td>\n",
       "      <td>0.504115</td>\n",
       "      <td>0.499533</td>\n",
       "      <td>True</td>\n",
       "    </tr>\n",
       "    <tr>\n",
       "      <th>enrollments</th>\n",
       "      <td>3785.0</td>\n",
       "      <td>3423.0</td>\n",
       "      <td>7208.0</td>\n",
       "      <td>0.5</td>\n",
       "      <td>0.005889</td>\n",
       "      <td>0.011543</td>\n",
       "      <td>0.488457</td>\n",
       "      <td>0.511543</td>\n",
       "      <td>0.474889</td>\n",
       "      <td>False</td>\n",
       "    </tr>\n",
       "    <tr>\n",
       "      <th>payments</th>\n",
       "      <td>2033.0</td>\n",
       "      <td>1945.0</td>\n",
       "      <td>3978.0</td>\n",
       "      <td>0.5</td>\n",
       "      <td>0.007928</td>\n",
       "      <td>0.015538</td>\n",
       "      <td>0.484462</td>\n",
       "      <td>0.515538</td>\n",
       "      <td>0.488939</td>\n",
       "      <td>True</td>\n",
       "    </tr>\n",
       "  </tbody>\n",
       "</table>\n",
       "</div>"
      ],
      "text/plain": [
       "              Control  Experiment     Total  Prob        SE    Margin  \\\n",
       "cookies      345543.0    344660.0  690203.0   0.5  0.000602  0.001180   \n",
       "clicks        28378.0     28325.0   56703.0   0.5  0.002100  0.004115   \n",
       "enrollments    3785.0      3423.0    7208.0   0.5  0.005889  0.011543   \n",
       "payments       2033.0      1945.0    3978.0   0.5  0.007928  0.015538   \n",
       "\n",
       "               CI_low   CI_high  Observed   Pass  \n",
       "cookies      0.498820  0.501180  0.499360   True  \n",
       "clicks       0.495885  0.504115  0.499533   True  \n",
       "enrollments  0.488457  0.511543  0.474889  False  \n",
       "payments     0.484462  0.515538  0.488939   True  "
      ]
     },
     "execution_count": 93,
     "metadata": {},
     "output_type": "execute_result"
    }
   ],
   "source": [
    "df_results['CI_low'] = df_results['Prob'] - df_results['Margin']\n",
    "df_results['CI_high'] = df_results['Prob'] + df_results['Margin']\n",
    "df_results['Observed'] = df_results['Experiment'] / df_results['Total']\n",
    "df_results['Pass'] = df_results.apply(lambda x: (x['Observed'] < x['CI_high']) and (x['Observed'] > x['CI_low']), axis=1)\n",
    "df_results"
   ]
  },
  {
   "cell_type": "markdown",
   "metadata": {},
   "source": [
    "### Other metrics"
   ]
  },
  {
   "cell_type": "markdown",
   "metadata": {},
   "source": [
    "*For other metrics such as rate, we need to calculate the CI around the control rate, and check if the experiment rate falls within the CI:*<br/>\n",
    "$$m = \\sqrt{\\frac{p_{control}*(1-p_{control})}{N_{control}}}$$<br/>\n",
    "$$CI = p_{control} \\pm m$$"
   ]
  },
  {
   "cell_type": "code",
   "execution_count": 113,
   "metadata": {},
   "outputs": [],
   "source": [
    "clicks_cont = df_results.loc['clicks', 'Control']\n",
    "pvs_cont = df_results.loc['cookies', 'Control']\n",
    "clicks_exp = df_results.loc['clicks', 'Experiment']\n",
    "pvs_exp = df_results.loc['cookies', 'Experiment']\n",
    "\n",
    "\n",
    "clicks_to_pvs_cont = clicks_cont / pvs_cont\n",
    "clicks_to_pvs_exp = clicks_exp / pvs_exp\n",
    "\n",
    "diff = clicks_to_pvs_exp - clicks_to_pvs_cont\n",
    "se = np.sqrt(clicks_to_pvs_cont * (1- clicks_to_pvs_cont) / pvs_cont)\n",
    "margin = se * norm.ppf(1-alpha/2)\n",
    "\n",
    "lower = clicks_to_pvs_cont - margin\n",
    "upper = clicks_to_pvs_cont + margin"
   ]
  },
  {
   "cell_type": "code",
   "execution_count": 117,
   "metadata": {},
   "outputs": [
    {
     "name": "stdout",
     "output_type": "stream",
     "text": [
      "Lower CI for CTR is: 0.08121037657420853\n",
      "Upper CI for CTR is: 0.08304125057494512\n",
      "Observed CTR is: 0.08218244066616376\n"
     ]
    }
   ],
   "source": [
    "print(f\"Lower CI for CTR is: {lower}\")\n",
    "print(f\"Upper CI for CTR is: {upper}\")\n",
    "print(f\"Observed CTR is: {clicks_to_pvs_exp}\")"
   ]
  },
  {
   "cell_type": "markdown",
   "metadata": {},
   "source": [
    "### Effect size test"
   ]
  },
  {
   "cell_type": "code",
   "execution_count": 120,
   "metadata": {},
   "outputs": [],
   "source": [
    "control = control[~control['Enrollments'].isna()]\n",
    "experiment = experiment[~experiment['Enrollments'].isna()]"
   ]
  },
  {
   "cell_type": "code",
   "execution_count": 122,
   "metadata": {},
   "outputs": [
    {
     "data": {
      "text/html": [
       "<div>\n",
       "<style scoped>\n",
       "    .dataframe tbody tr th:only-of-type {\n",
       "        vertical-align: middle;\n",
       "    }\n",
       "\n",
       "    .dataframe tbody tr th {\n",
       "        vertical-align: top;\n",
       "    }\n",
       "\n",
       "    .dataframe thead th {\n",
       "        text-align: right;\n",
       "    }\n",
       "</style>\n",
       "<table border=\"1\" class=\"dataframe\">\n",
       "  <thead>\n",
       "    <tr style=\"text-align: right;\">\n",
       "      <th></th>\n",
       "      <th>Control</th>\n",
       "      <th>Experiment</th>\n",
       "    </tr>\n",
       "  </thead>\n",
       "  <tbody>\n",
       "    <tr>\n",
       "      <th>cookies</th>\n",
       "      <td>212163.0</td>\n",
       "      <td>211362.0</td>\n",
       "    </tr>\n",
       "    <tr>\n",
       "      <th>clicks</th>\n",
       "      <td>17293.0</td>\n",
       "      <td>17260.0</td>\n",
       "    </tr>\n",
       "    <tr>\n",
       "      <th>enrollments</th>\n",
       "      <td>3785.0</td>\n",
       "      <td>3423.0</td>\n",
       "    </tr>\n",
       "    <tr>\n",
       "      <th>payments</th>\n",
       "      <td>2033.0</td>\n",
       "      <td>1945.0</td>\n",
       "    </tr>\n",
       "  </tbody>\n",
       "</table>\n",
       "</div>"
      ],
      "text/plain": [
       "              Control  Experiment\n",
       "cookies      212163.0    211362.0\n",
       "clicks        17293.0     17260.0\n",
       "enrollments    3785.0      3423.0\n",
       "payments       2033.0      1945.0"
      ]
     },
     "execution_count": 122,
     "metadata": {},
     "output_type": "execute_result"
    }
   ],
   "source": [
    "idx = [\"cookies\",\"clicks\",\"enrollments\",\"payments\"]\n",
    "results = {\"Control\":pd.Series([control['Pageviews'].sum(), control['Clicks'].sum(), control['Enrollments'].sum(),control['Payments'].sum()],\n",
    "                                index = idx),\n",
    "           \"Experiment\":pd.Series([experiment['Pageviews'].sum(), experiment['Clicks'].sum(), experiment['Enrollments'].sum(),experiment['Payments'].sum()],\n",
    "                               index = idx)}\n",
    "df_results = pd.DataFrame(results)\n",
    "df_results"
   ]
  },
  {
   "cell_type": "code",
   "execution_count": 124,
   "metadata": {},
   "outputs": [],
   "source": [
    "df_results['Total']=df_results['Control'] + df_results['Experiment']"
   ]
  },
  {
   "cell_type": "code",
   "execution_count": 129,
   "metadata": {},
   "outputs": [
    {
     "name": "stdout",
     "output_type": "stream",
     "text": [
      "Gross conversion is: 0.20860706740369866\n",
      "Net conversion is: 0.1151274853124186\n"
     ]
    }
   ],
   "source": [
    "# Get the values\n",
    "\n",
    "enrollments_cont = df_results.loc['enrollments', 'Control']\n",
    "clicks_cont = df_results.loc['clicks', 'Control']\n",
    "payments_cont = df_results.loc['payments', 'Control']\n",
    "enrollments_exp = df_results.loc['enrollments','Experiment']\n",
    "clicks_exp = df_results.loc['clicks', 'Experiment']\n",
    "payments_exp = df_results.loc['payments', 'Experiment']\n",
    "\n",
    "gross_conversion_cont = enrollments_cont/clicks_cont\n",
    "net_conversion_cont = payments_cont/clicks_cont\n",
    "gross_conversion_exp = enrollments_exp/clicks_exp\n",
    "net_conversion_exp = payments_exp/clicks_exp\n",
    "\n",
    "\n",
    "gross_conversion = (enrollments_exp + enrollments_cont)/(clicks_cont + clicks_exp)\n",
    "net_conversion = (payments_cont + payments_exp)/(clicks_cont + clicks_exp)\n",
    "print(f\"Gross conversion is: {gross_conversion}\")\n",
    "print(f\"Net conversion is: {net_conversion}\")"
   ]
  },
  {
   "cell_type": "markdown",
   "metadata": {},
   "source": [
    "*Here, we can use either the analytical or empirical variance to calculate the standard error:*<br/>\n",
    "$$SE_{empirical} = \\sqrt{\\hat{p} * (1 - \\hat{p}) * \\frac{1}{N_{cont}} * \\frac{1}{N_{exp}}}$$<br/>\n",
    "We can also use analytical variance to estimate:<br/>\n",
    "$$\\frac{SE_{analytical}}{\\sqrt{1/N_{control} + 1/N_{exp}}} = \\sqrt{\\frac{std_{5000\\_PVs}}{1/N_{event\\_from\\_5000\\_pvs}}}$$"
   ]
  },
  {
   "cell_type": "code",
   "execution_count": 136,
   "metadata": {},
   "outputs": [],
   "source": [
    "def get_ci(p_hat, p_hat_cont, p_hat_exp, alpha, N_cont, N_exp):\n",
    "    SE = np.sqrt((p_hat * (1 - p_hat))*(1/N_cont + 1/N_exp))\n",
    "    z_score = norm.ppf(1-alpha/2)\n",
    "    margin = z_score * SE\n",
    "    \n",
    "    diff = p_hat_exp - p_hat_cont\n",
    "    ci_lower = diff - margin\n",
    "    ci_upper = diff + margin\n",
    "    \n",
    "    return ci_lower, ci_upper"
   ]
  },
  {
   "cell_type": "code",
   "execution_count": 137,
   "metadata": {},
   "outputs": [
    {
     "data": {
      "text/plain": [
       "(-0.02912320088750467, -0.011986548273218463)"
      ]
     },
     "execution_count": 137,
     "metadata": {},
     "output_type": "execute_result"
    }
   ],
   "source": [
    "res = get_ci(gross_conversion, gross_conversion_cont, gross_conversion_exp, alpha, clicks_cont, clicks_exp)\n",
    "print(f\"Gross conversion CI is {res}\")"
   ]
  },
  {
   "cell_type": "code",
   "execution_count": 138,
   "metadata": {},
   "outputs": [
    {
     "name": "stdout",
     "output_type": "stream",
     "text": [
      "Net conversion CI is (-0.011604500677993734, 0.0018570553289053993)\n"
     ]
    }
   ],
   "source": [
    "res = get_ci(net_conversion, net_conversion_cont, net_conversion_exp, alpha, clicks_cont, clicks_exp)\n",
    "print(f\"Net conversion CI is {res}\")"
   ]
  },
  {
   "cell_type": "markdown",
   "metadata": {},
   "source": [
    "### Sign test"
   ]
  },
  {
   "cell_type": "markdown",
   "metadata": {},
   "source": [
    "*Sign test is a binomial test, which is the *<br/>"
   ]
  },
  {
   "cell_type": "code",
   "execution_count": 140,
   "metadata": {},
   "outputs": [],
   "source": [
    "for dataset in [control, experiment]:\n",
    "    dataset['gross_conversion'] = dataset['Enrollments'] / dataset['Clicks']\n",
    "    dataset['net_conversion'] = dataset['Payments'] / dataset['Clicks']"
   ]
  },
  {
   "cell_type": "code",
   "execution_count": 152,
   "metadata": {},
   "outputs": [
    {
     "name": "stdout",
     "output_type": "stream",
     "text": [
      "Gross conversion p-value is: 0.0025994777679443364\n",
      "Net conversion p-value is: 0.6776394844055175\n"
     ]
    }
   ],
   "source": [
    "from scipy.stats import binom_test\n",
    "gross_conversion_sign = control['gross_conversion'] > experiment['gross_conversion']\n",
    "net_conversion_sign = control['net_conversion'] > experiment['net_conversion']\n",
    "\n",
    "print(f\"Gross conversion p-value is: {binom_test(sum(gross_conversion_sign), len(gross_conversion_sign))}\")\n",
    "print(f\"Net conversion p-value is: {binom_test(sum(net_conversion_sign), len(net_conversion_sign))}\")"
   ]
  },
  {
   "cell_type": "code",
   "execution_count": 153,
   "metadata": {},
   "outputs": [
    {
     "data": {
      "text/plain": [
       "19"
      ]
     },
     "execution_count": 153,
     "metadata": {},
     "output_type": "execute_result"
    }
   ],
   "source": [
    "sum(gross_conversion_sign)"
   ]
  },
  {
   "cell_type": "code",
   "execution_count": 154,
   "metadata": {},
   "outputs": [
    {
     "data": {
      "text/plain": [
       "23"
      ]
     },
     "execution_count": 154,
     "metadata": {},
     "output_type": "execute_result"
    }
   ],
   "source": [
    "len(gross_conversion_sign)"
   ]
  },
  {
   "cell_type": "code",
   "execution_count": null,
   "metadata": {},
   "outputs": [],
   "source": []
  }
 ],
 "metadata": {
  "kernelspec": {
   "display_name": "Python [conda env:analytic_essential] *",
   "language": "python",
   "name": "conda-env-analytic_essential-py"
  },
  "language_info": {
   "codemirror_mode": {
    "name": "ipython",
    "version": 3
   },
   "file_extension": ".py",
   "mimetype": "text/x-python",
   "name": "python",
   "nbconvert_exporter": "python",
   "pygments_lexer": "ipython3",
   "version": "3.7.5"
  }
 },
 "nbformat": 4,
 "nbformat_minor": 4
}
